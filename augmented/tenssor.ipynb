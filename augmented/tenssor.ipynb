{
 "cells": [
  {
   "cell_type": "code",
   "execution_count": null,
   "metadata": {},
   "outputs": [],
   "source": [
    "import tensorflow as tf\n",
    "import pandas as pd\n",
    "import matplotlib.pyplot as plt\n",
    "import os\n",
    "\n",
    "# Function to extract data from TensorBoard log files\n",
    "def extract_data_from_event_file(event_file):\n",
    "    acc = []\n",
    "    loss = []\n",
    "    for event in tf.compat.v1.train.summary_iterator(event_file):\n",
    "        for value in event.summary.value:\n",
    "            if value.tag == 'accuracy':\n",
    "                acc.append(value.simple_value)\n",
    "            elif value.tag == 'loss':\n",
    "                loss.append(value.simple_value)\n",
    "    return acc, loss\n",
    "\n",
    "# Specify the path to your event file\n",
    "log_dir = \"runs/experiment_1\"\n",
    "event_file = [os.path.join(log_dir, f) for f in os.listdir(log_dir) if f.startswith(\"events.out.tfevents\")][0]\n",
    "\n",
    "# Extract data\n",
    "accuracy, loss = extract_data_from_event_file(event_file)\n",
    "\n",
    "# Create a DataFrame\n",
    "df = pd.DataFrame({'Accuracy': accuracy, 'Loss': loss})\n",
    "\n",
    "# Plot the data\n",
    "fig, ax1 = plt.subplots()\n",
    "\n",
    "ax1.set_xlabel('Epoch')\n",
    "ax1.set_ylabel('Accuracy', color='tab:blue')\n",
    "ax1.plot(df.index, df['Accuracy'], color='tab:blue', label='Accuracy')\n",
    "ax1.tick_params(axis='y', labelcolor='tab:blue')\n",
    "\n",
    "ax2 = ax1.twinx()\n",
    "ax2.set_ylabel('Loss', color='tab:red')\n",
    "ax2.plot(df.index, df['Loss'], color='tab:red', label='Loss')\n",
    "ax2.tick_params(axis='y', labelcolor='tab:red')\n",
    "\n",
    "fig.tight_layout()\n",
    "plt.title('Training Accuracy and Loss')\n",
    "plt.show()\n"
   ]
  }
 ],
 "metadata": {
  "language_info": {
   "name": "python"
  }
 },
 "nbformat": 4,
 "nbformat_minor": 2
}
